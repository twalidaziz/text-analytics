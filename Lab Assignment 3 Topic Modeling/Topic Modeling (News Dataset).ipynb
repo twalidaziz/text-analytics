{
 "cells": [
  {
   "cell_type": "markdown",
   "id": "ba18a12e-3947-466e-b704-8b0ef6ffa6f5",
   "metadata": {},
   "source": [
    "# Lab Assignment 3: Topic Modeling (News Dataset)\n",
    "### Tariq Walid Bin Abd Aziz (SW01083016)\n",
    "### Montasir Kamal Eldin Mohamed (IS01080844)"
   ]
  },
  {
   "cell_type": "code",
   "execution_count": 4,
   "id": "4ff0ff5f-6f1d-440d-853d-6c9e3ef28565",
   "metadata": {},
   "outputs": [
    {
     "name": "stderr",
     "output_type": "stream",
     "text": [
      "[nltk_data] Downloading package stopwords to /home/jovyan/nltk_data...\n",
      "[nltk_data]   Package stopwords is already up-to-date!\n",
      "[nltk_data] Downloading package punkt to /home/jovyan/nltk_data...\n",
      "[nltk_data]   Package punkt is already up-to-date!\n",
      "[nltk_data] Downloading package wordnet to /home/jovyan/nltk_data...\n",
      "[nltk_data]   Package wordnet is already up-to-date!\n"
     ]
    },
    {
     "data": {
      "text/plain": [
       "True"
      ]
     },
     "execution_count": 4,
     "metadata": {},
     "output_type": "execute_result"
    }
   ],
   "source": [
    "# For text preprocessing\n",
    "import nltk\n",
    "from nltk.corpus import stopwords\n",
    "from nltk.tokenize import word_tokenize\n",
    "from nltk.stem import WordNetLemmatizer\n",
    "import cleantext\n",
    "# For topic modeling\n",
    "from gensim import corpora\n",
    "from gensim.models import LdaModel\n",
    "import pandas as pd\n",
    "# Download NLTK Resources\n",
    "nltk.download('stopwords')\n",
    "nltk.download('punkt')\n",
    "nltk.download('wordnet')"
   ]
  },
  {
   "cell_type": "code",
   "execution_count": 43,
   "id": "807e9805-7f3d-42e8-b848-baa04b613596",
   "metadata": {},
   "outputs": [],
   "source": [
    "df = pd.read_csv('news_dataset.csv')\n",
    "df['text'] = df['text'].str.lower()\n",
    "documents = df['text'].tolist()"
   ]
  },
  {
   "cell_type": "code",
   "execution_count": 44,
   "id": "ff22700d-ad0f-4e51-a599-d93244bdc4b8",
   "metadata": {},
   "outputs": [
    {
     "name": "stdout",
     "output_type": "stream",
     "text": [
      "['wondering', 'anyone', 'could', 'enlighten', 'car', 'saw', 'day', 'door', 'sport', 'car', 'looked', 'late', 'early', 'called', 'bricklin', 'door', 'really', 'small', 'addition', 'front', 'bumper', 'separate', 'rest', 'body', 'know', 'anyone', 'tellme', 'model', 'name', 'engine', 'spec', 'year', 'production', 'car', 'made', 'history', 'whatever', 'info', 'funky', 'looking', 'car', 'please', 'mail']\n"
     ]
    }
   ],
   "source": [
    "stop_words = set(stopwords.words('english')) # Create a set of English stopwords\n",
    "lemmatizer = WordNetLemmatizer() # Initialize a WordNet lemmatizer\n",
    "\n",
    "def preprocess_text(text):\n",
    "    tokens = cleantext.clean_words(str(text),\n",
    "                clean_all= False, # Execute all cleaning operations\n",
    "                reg=r'\\b[a-zA-Z]{1,2}\\b', # Remove parts of text based on regex\n",
    "                reg_replace='', # String to replace the regex used in reg\n",
    "                extra_spaces=True ,  # Remove extra white spaces \n",
    "                stemming=False , # Stem the words\n",
    "                stopwords=True ,# Remove stop words\n",
    "                lowercase=True ,# Convert to lowercase\n",
    "                numbers=True ,# Remove all digits \n",
    "                punct=True ,# Remove all punctuations\n",
    "                stp_lang='english'  # Language for stop words\n",
    "                )\n",
    "    tokens = [lemmatizer.lemmatize(token) for token in tokens]\n",
    "    return tokens\n",
    "    \n",
    "preprocessed_documents = [preprocess_text(doc) for doc in documents] # Preprocess each document in the list\n",
    "\n",
    "print(preprocessed_documents[0])"
   ]
  },
  {
   "cell_type": "code",
   "execution_count": 45,
   "id": "9f40386c-288d-4c6e-adec-2b8cf3a668f7",
   "metadata": {},
   "outputs": [],
   "source": [
    "# Create a Gensim Dictionary object from the preprocessed documents\n",
    "dictionary = corpora.Dictionary(preprocessed_documents)\n",
    "# Filter out tokens that appear in less than 15 documents or more than 50% of the documents\n",
    "dictionary.filter_extremes(no_below=15, no_above=0.5)\n",
    "# Convert each preprocessed document into a bag-of-words representation using the dictionary\n",
    "corpus = [dictionary.doc2bow(doc) for doc in preprocessed_documents]"
   ]
  },
  {
   "cell_type": "code",
   "execution_count": 46,
   "id": "b293b260-0344-442c-8d21-19622f23634e",
   "metadata": {},
   "outputs": [],
   "source": [
    "# Run LDA\n",
    "lda_model = LdaModel(corpus, num_topics=4, id2word=dictionary, passes=15) # Train an LDA modelon the corpus with 4 topics using Gensim's LdaModel class"
   ]
  },
  {
   "cell_type": "code",
   "execution_count": 47,
   "id": "8dc93d23-5432-48d6-8e66-67db6e5e81dc",
   "metadata": {},
   "outputs": [
    {
     "name": "stdout",
     "output_type": "stream",
     "text": [
      "Table with Articles and Topic:\n",
      "                                                 Article  Topic\n",
      "0      i was wondering if anyone out there could enli...      0\n",
      "1      i recently posted an article asking what kind ...      0\n",
      "2      \\nit depends on your priorities.  a lot of peo...      0\n",
      "3      an excellent automatic can be found in the sub...      0\n",
      "4      : ford and his automobile.  i need information...      0\n",
      "...                                                  ...    ...\n",
      "11309  secrecy in clipper chip\\n\\nthe serial number o...      2\n",
      "11310  hi !\\n\\ni am interested in the source of feal ...      2\n",
      "11311  the actual algorithm is classified, however, t...      0\n",
      "11312  \\n\\tthis appears to be generic calling upon th...      0\n",
      "11313  \\nprobably keep quiet and take it, lest they g...      0\n",
      "\n",
      "[11314 rows x 2 columns]\n",
      "\n"
     ]
    }
   ],
   "source": [
    "# empty list to store dominant topic labels for each document\n",
    "article_labels = []\n",
    "\n",
    "# iterate over each processed document\n",
    "for i, doc in enumerate(preprocessed_documents):\n",
    "    # for each document, convert to bag-of-words representation\n",
    "    bow = dictionary.doc2bow(doc)\n",
    "    # get list of topic probabilities\n",
    "    topics = lda_model.get_document_topics(bow)\n",
    "    # determine topic with highest probability\n",
    "    dominant_topic = max(topics, key=lambda x: x[1])[0]\n",
    "    # append to the list\n",
    "    article_labels.append(dominant_topic)\n",
    "    \n",
    "# Create DataFrame\n",
    "df_result = pd.DataFrame({\"Article\": documents, \"Topic\": article_labels})\n",
    "\n",
    "# Print the DataFrame\n",
    "print(\"Table with Articles and Topic:\")\n",
    "print(df_result)\n",
    "print()"
   ]
  },
  {
   "cell_type": "code",
   "execution_count": 48,
   "id": "eeb0ce4a-8fe7-4cb5-be46-d304fb6626d3",
   "metadata": {},
   "outputs": [
    {
     "name": "stdout",
     "output_type": "stream",
     "text": [
      "Top terms for Topic #0:\n",
      "['would', 'one', 'people', 'get', 'know', 'like', 'think', 'government', 'time', 'right']\n",
      "\n",
      "Top terms for Topic #1:\n",
      "['armenian', 'game', 'year', 'team', 'new', 'first', 'turkish', 'player', 'israeli', 'israel']\n",
      "\n",
      "Top terms for Topic #2:\n",
      "['max', 'file', 'use', 'system', 'key', 'window', 'b', 'program', 'one', 'information']\n",
      "\n",
      "Top terms for Topic #3:\n",
      "['one', 'people', 'god', 'would', 'say', 'think', 'know', 'many', 'believe', 'christian']\n",
      "\n"
     ]
    }
   ],
   "source": [
    "# Print top terms for each topic\n",
    "for topic_id in range(lda_model.num_topics):\n",
    "    print(f\"Top terms for Topic #{topic_id}:\")\n",
    "    top_terms = lda_model.show_topic(topic_id, topn=10)\n",
    "    print([term[0] for term in top_terms])\n",
    "    print()"
   ]
  },
  {
   "cell_type": "code",
   "execution_count": 49,
   "id": "52a4786a-92d1-4000-8213-b5efceb1605c",
   "metadata": {},
   "outputs": [
    {
     "name": "stdout",
     "output_type": "stream",
     "text": [
      "Top Terms for Each Topic:\n",
      "Topic 0:\n",
      "- \"would\" (weight: 0.011)\n",
      "- \"one\" (weight: 0.010)\n",
      "- \"people\" (weight: 0.008)\n",
      "- \"get\" (weight: 0.007)\n",
      "- \"know\" (weight: 0.007)\n",
      "- \"like\" (weight: 0.007)\n",
      "- \"think\" (weight: 0.007)\n",
      "- \"government\" (weight: 0.006)\n",
      "- \"time\" (weight: 0.006)\n",
      "- \"right\" (weight: 0.005)\n",
      "\n",
      "Topic 1:\n",
      "- \"armenian\" (weight: 0.010)\n",
      "- \"game\" (weight: 0.010)\n",
      "- \"year\" (weight: 0.008)\n",
      "- \"team\" (weight: 0.008)\n",
      "- \"new\" (weight: 0.005)\n",
      "- \"first\" (weight: 0.005)\n",
      "- \"turkish\" (weight: 0.005)\n",
      "- \"player\" (weight: 0.005)\n",
      "- \"israeli\" (weight: 0.005)\n",
      "- \"israel\" (weight: 0.005)\n",
      "\n",
      "Topic 2:\n",
      "- \"max\" (weight: 0.011)\n",
      "- \"file\" (weight: 0.010)\n",
      "- \"use\" (weight: 0.009)\n",
      "- \"system\" (weight: 0.008)\n",
      "- \"key\" (weight: 0.008)\n",
      "- \"window\" (weight: 0.006)\n",
      "- \"b\" (weight: 0.006)\n",
      "- \"program\" (weight: 0.006)\n",
      "- \"one\" (weight: 0.006)\n",
      "- \"information\" (weight: 0.005)\n",
      "\n",
      "Topic 3:\n",
      "- \"one\" (weight: 0.011)\n",
      "- \"people\" (weight: 0.010)\n",
      "- \"god\" (weight: 0.010)\n",
      "- \"would\" (weight: 0.009)\n",
      "- \"say\" (weight: 0.006)\n",
      "- \"think\" (weight: 0.006)\n",
      "- \"know\" (weight: 0.005)\n",
      "- \"many\" (weight: 0.005)\n",
      "- \"believe\" (weight: 0.004)\n",
      "- \"christian\" (weight: 0.004)\n",
      "\n"
     ]
    }
   ],
   "source": [
    "# Print the top terms for each topic with weight\n",
    "print(\"Top Terms for Each Topic:\")\n",
    "for idx, topic in lda_model.print_topics():\n",
    "    print(f\"Topic {idx}:\")\n",
    "    terms = [term.strip() for term in topic.split(\"+\")]\n",
    "    for term in terms:\n",
    "        weight, word = term.split(\"*\")\n",
    "        print(f\"- {word.strip()} (weight: {weight.strip()})\")\n",
    "    print()"
   ]
  },
  {
   "cell_type": "markdown",
   "id": "b81ec748-23e6-41dc-ae5e-4aa30bd52306",
   "metadata": {},
   "source": [
    "## Topic Coherence Score"
   ]
  },
  {
   "cell_type": "code",
   "execution_count": 50,
   "id": "0e3fcd72-0b1e-48a9-adbf-05a7826e31df",
   "metadata": {},
   "outputs": [],
   "source": [
    "# import library for Coherence Score\n",
    "from gensim.models.coherencemodel import CoherenceModel"
   ]
  },
  {
   "cell_type": "code",
   "execution_count": 54,
   "id": "eda1d26a-701c-4acf-9827-8c5dd071ec9d",
   "metadata": {},
   "outputs": [
    {
     "name": "stdout",
     "output_type": "stream",
     "text": [
      "Topic Coherence Score (C_V): 0.4640\n"
     ]
    }
   ],
   "source": [
    "# Calculate the coherence score for the LDA model\n",
    "coherence_model_lda = CoherenceModel(model=lda_model, texts=preprocessed_documents, dictionary=dictionary, coherence='c_v')\n",
    "coherence_lda = coherence_model_lda.get_coherence()\n",
    "\n",
    "# Display the score\n",
    "print(f'Topic Coherence Score (C_V): {coherence_lda:.4f}')"
   ]
  },
  {
   "cell_type": "markdown",
   "id": "12b9687a-fcf1-41f3-96a9-3764de5a479a",
   "metadata": {},
   "source": [
    "## Finding & Discussion"
   ]
  },
  {
   "cell_type": "markdown",
   "id": "96330cfe-7528-4130-b3c7-38fa961d80a2",
   "metadata": {},
   "source": [
    "#### The terms can be group based on the following topics:\n",
    "#### Topic 0: Politics\n",
    "#### Topic 1: International Sports\n",
    "#### Topic 2: Software Systems\n",
    "#### Topic 3: Religion\n",
    "#### A coherence score of 0.4 indicates moderate coherence. The topics are fairly interpretable, but there is still room for improving the model to achieve clearer and more meaningful topics."
   ]
  },
  {
   "cell_type": "code",
   "execution_count": null,
   "id": "1b4fdd86-40c4-49ac-8fca-5ee2914d3c18",
   "metadata": {},
   "outputs": [],
   "source": []
  }
 ],
 "metadata": {
  "kernelspec": {
   "display_name": "Python 3 (ipykernel)",
   "language": "python",
   "name": "python3"
  },
  "language_info": {
   "codemirror_mode": {
    "name": "ipython",
    "version": 3
   },
   "file_extension": ".py",
   "mimetype": "text/x-python",
   "name": "python",
   "nbconvert_exporter": "python",
   "pygments_lexer": "ipython3",
   "version": "3.11.8"
  }
 },
 "nbformat": 4,
 "nbformat_minor": 5
}
