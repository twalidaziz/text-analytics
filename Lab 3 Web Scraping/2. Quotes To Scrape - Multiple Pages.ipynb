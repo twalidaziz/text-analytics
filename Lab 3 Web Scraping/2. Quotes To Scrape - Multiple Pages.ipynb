{
 "cells": [
  {
   "cell_type": "code",
   "execution_count": 1,
   "id": "5349df3d-d83d-47e9-af0d-6b2b5748fef9",
   "metadata": {},
   "outputs": [],
   "source": [
    "import requests\n",
    "from bs4 import BeautifulSoup\n",
    "import csv"
   ]
  },
  {
   "cell_type": "code",
   "execution_count": 2,
   "id": "cb5d9693-c607-471d-86e9-499d0c01ec15",
   "metadata": {},
   "outputs": [],
   "source": [
    "# Function to scrape quotes from a page\n",
    "def scrape_page(soup, quotes):\n",
    "    for quote in soup.find_all('div', class_='quote'):\n",
    "        text = quote.find('span', class_='text').text\n",
    "        author = quote.find('small', class_='author').text\n",
    "        tags = ', '.join(tag.text for tag in quote.find_all('a', class_='tag'))\n",
    "        quotes.append({'Text': text, 'Author': author, 'Tags': tags})\n",
    "\n",
    "# Base URL and headers\n",
    "base_url = 'https://quotes.toscrape.com'\n",
    "headers = {'User-Agent': 'Mozilla/5.0'}"
   ]
  },
  {
   "cell_type": "code",
   "execution_count": 3,
   "id": "a577177e-5447-448d-b369-cddb09e8ba3b",
   "metadata": {},
   "outputs": [],
   "source": [
    "# List to store quotes\n",
    "quotes = []"
   ]
  },
  {
   "cell_type": "code",
   "execution_count": 4,
   "id": "5483649a-5f6a-4ccb-a74b-e9563b7f1de5",
   "metadata": {},
   "outputs": [],
   "source": [
    "# Function to scrape quotes from multiple pages\n",
    "def scrape_all_pages(url):\n",
    "    while url:\n",
    "        response = requests.get(url, headers=headers)\n",
    "        soup = BeautifulSoup(response.text, 'html.parser')\n",
    "        scrape_page(soup, quotes)\n",
    "        next_page = soup.find('li', class_='next')\n",
    "        url = base_url + next_page.find('a')['href'] if next_page else None\n",
    "\n",
    "# Scrape quotes from all pages\n",
    "scrape_all_pages(base_url)"
   ]
  },
  {
   "cell_type": "code",
   "execution_count": 5,
   "id": "955c8004-fb8b-4a58-9b43-3067029e5499",
   "metadata": {},
   "outputs": [
    {
     "name": "stdout",
     "output_type": "stream",
     "text": [
      "Quotes have been saved to quotes2.csv\n"
     ]
    }
   ],
   "source": [
    "# Save quotes to CSV file\n",
    "with open('quotes2.csv', 'w', newline='', encoding='utf-8') as csvfile:\n",
    "    writer = csv.DictWriter(csvfile, fieldnames=['Text', 'Author', 'Tags'])\n",
    "    writer.writeheader()\n",
    "    writer.writerows(quotes)\n",
    "\n",
    "print(\"Quotes have been saved to quotes2.csv\")"
   ]
  },
  {
   "cell_type": "code",
   "execution_count": null,
   "id": "b062de6a-3f05-4ee5-a7b5-8799e31fa22b",
   "metadata": {},
   "outputs": [],
   "source": []
  }
 ],
 "metadata": {
  "kernelspec": {
   "display_name": "Python 3 (ipykernel)",
   "language": "python",
   "name": "python3"
  },
  "language_info": {
   "codemirror_mode": {
    "name": "ipython",
    "version": 3
   },
   "file_extension": ".py",
   "mimetype": "text/x-python",
   "name": "python",
   "nbconvert_exporter": "python",
   "pygments_lexer": "ipython3",
   "version": "3.11.8"
  }
 },
 "nbformat": 4,
 "nbformat_minor": 5
}
