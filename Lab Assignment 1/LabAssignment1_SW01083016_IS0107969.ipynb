{
 "cells": [
  {
   "cell_type": "code",
   "execution_count": 11,
   "id": "3c889dad-3402-4e5c-96e7-3eafc8fd4bb9",
   "metadata": {},
   "outputs": [],
   "source": [
    "import re\n",
    "import json\n",
    "import requests\n",
    "import csv\n",
    "import datetime\n",
    "\n",
    "url = 'https://shopee.com.my/Co2-Stainless-Steel-Thermos-Tumbler-Mug-Cup-Thermos-Water-Bottle-Flask-Drinking-Sport-Outdoor-Large-Capacity-i.191832435.24251500076?publish_id=&sp_atk=007fb105-4d68-4110-9bc7-aa0c53a484d1&xptdk=007fb105-4d68-4110-9bc7-aa0c53a484d1&is_from_login=true'\n",
    "\n",
    "# Extract shop ID and item ID from URL using regex\n",
    "r = re.search(r'i\\.(\\d+)\\.(\\d+)', url)\n",
    "if r:\n",
    "    shop_id, item_id = r.group(1), r.group(2)\n",
    "else:\n",
    "    print(\"Invalid URL\")\n",
    "    exit()"
   ]
  },
  {
   "cell_type": "code",
   "execution_count": 12,
   "id": "2428851e-d79d-4664-b299-53b617216566",
   "metadata": {},
   "outputs": [],
   "source": [
    "offset = 0\n",
    "# Limit to only 30 reviews\n",
    "# 6 reviews per page. So 30 reviews for a total of 5 pages\n",
    "limit = 30 \n",
    "ratings_url = f'https://shopee.com.my/api/v2/item/get_ratings?filter=0&flag=1&itemid={item_id}&limit={limit}&offset={offset}&shopid={shop_id}&type=0'\n",
    "response = requests.get(ratings_url).json()"
   ]
  },
  {
   "cell_type": "code",
   "execution_count": 13,
   "id": "4cdf1d0b-c02c-47f2-95aa-e6546dff80ab",
   "metadata": {},
   "outputs": [],
   "source": [
    "reviews = []"
   ]
  },
  {
   "cell_type": "code",
   "execution_count": 14,
   "id": "2450fbae-2eae-4fb3-88d9-6ae0bb4ed10b",
   "metadata": {},
   "outputs": [],
   "source": [
    "# Loop through each ratings in 'response' and extract profile name, review date, and contents\n",
    "for rating in response['data']['ratings']:\n",
    "        profile_name = rating['author_username']\n",
    "        content = rating['comment']\n",
    "        date = datetime.datetime.fromtimestamp(rating['submit_time'])\n",
    "\n",
    "        # Format UNIX timestamp to custom date format\n",
    "        formatted_date = date.strftime(\"%Y-%m-%d\")\n",
    "\n",
    "        # Append each review into 'reviews' list\n",
    "        reviews.append({'Reviewer': profile_name, 'Date': formatted_date, 'Content': content})"
   ]
  },
  {
   "cell_type": "code",
   "execution_count": 15,
   "id": "72b0796d-ddc2-4f06-9213-1b073e820d6f",
   "metadata": {},
   "outputs": [
    {
     "name": "stdout",
     "output_type": "stream",
     "text": [
      "Reviews have been saved to reviews.csv\n"
     ]
    }
   ],
   "source": [
    "# Save reviews to CSV file\n",
    "with open('reviews.csv', 'w', newline='', encoding='utf-8') as csvfile:\n",
    "    writer = csv.DictWriter(csvfile, fieldnames=['Reviewer', 'Date', 'Content'])\n",
    "    writer.writeheader()\n",
    "    writer.writerows(reviews)\n",
    "\n",
    "print(\"Reviews have been saved to reviews.csv\")"
   ]
  },
  {
   "cell_type": "code",
   "execution_count": null,
   "id": "050cf0aa-3c6c-4f52-9bc6-e30508306710",
   "metadata": {},
   "outputs": [],
   "source": []
  }
 ],
 "metadata": {
  "kernelspec": {
   "display_name": "Python 3 (ipykernel)",
   "language": "python",
   "name": "python3"
  },
  "language_info": {
   "codemirror_mode": {
    "name": "ipython",
    "version": 3
   },
   "file_extension": ".py",
   "mimetype": "text/x-python",
   "name": "python",
   "nbconvert_exporter": "python",
   "pygments_lexer": "ipython3",
   "version": "3.11.8"
  }
 },
 "nbformat": 4,
 "nbformat_minor": 5
}
