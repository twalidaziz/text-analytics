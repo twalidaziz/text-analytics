{
 "cells": [
  {
   "cell_type": "code",
   "execution_count": 1,
   "id": "563f9c74-e558-4a57-a7f0-40f01b3691c0",
   "metadata": {},
   "outputs": [],
   "source": [
    "import re"
   ]
  },
  {
   "cell_type": "code",
   "execution_count": 19,
   "id": "988227d6-450b-47ec-8dae-2afad251b870",
   "metadata": {},
   "outputs": [
    {
     "name": "stdout",
     "output_type": "stream",
     "text": [
      "<re.Match object; span=(0, 1), match='I'>\n"
     ]
    }
   ],
   "source": [
    "#using re.match \n",
    "#to find the first occurrence of the letter 'I' in the string\n",
    "\n",
    "sentence1 = re.match (r'I', 'I am learning text analytics') \n",
    "print (sentence1)"
   ]
  },
  {
   "cell_type": "code",
   "execution_count": 3,
   "id": "a9c9252f-c6e8-4352-bf68-1f2f4bd16e4b",
   "metadata": {},
   "outputs": [
    {
     "name": "stdout",
     "output_type": "stream",
     "text": [
      "None\n"
     ]
    }
   ],
   "source": [
    "#using re.match \n",
    "#to find the first occurrence of the letter 'v' in the string \n",
    " \n",
    "sentence2 = re.match (r'v', 'I am learning text analytics') \n",
    "print (sentence2)"
   ]
  },
  {
   "cell_type": "code",
   "execution_count": 4,
   "id": "3c510184-f418-45ad-9b2b-b05083f4029c",
   "metadata": {},
   "outputs": [
    {
     "name": "stdout",
     "output_type": "stream",
     "text": [
      "None\n"
     ]
    }
   ],
   "source": [
    "#using re.match \n",
    "#to find the first occurrence of the letter 'am' in the string \n",
    " \n",
    "sentence3 = re.match (r'am', 'I am learning text analytics') \n",
    "print (sentence3)"
   ]
  },
  {
   "cell_type": "code",
   "execution_count": 18,
   "id": "18b0cbe1-35ce-49ae-bccb-c8a95a19fd70",
   "metadata": {},
   "outputs": [
    {
     "name": "stdout",
     "output_type": "stream",
     "text": [
      "<re.Match object; span=(2, 4), match='am'>\n"
     ]
    }
   ],
   "source": [
    "#using re.search\n",
    "#to find the first occurrence of a pattern in a string regardless of the location\n",
    "\n",
    "sentence4 = re.search(r'am', 'I am learning text analytics')\n",
    "print (sentence4)"
   ]
  },
  {
   "cell_type": "code",
   "execution_count": 8,
   "id": "8494fc25-00ad-488f-b8f5-775cb0dd994a",
   "metadata": {},
   "outputs": [
    {
     "name": "stdout",
     "output_type": "stream",
     "text": [
      "<re.Match object; span=(2, 4), match='am'>\n"
     ]
    }
   ],
   "source": [
    "sentence5 = re.search(r'am', 'I am learning text analytics and am enjoying it')  \n",
    "print (sentence5)"
   ]
  },
  {
   "cell_type": "code",
   "execution_count": 9,
   "id": "c9665927-e5c1-40b7-8007-f19c71572d1c",
   "metadata": {},
   "outputs": [
    {
     "name": "stdout",
     "output_type": "stream",
     "text": [
      "['am', 'am']\n"
     ]
    }
   ],
   "source": [
    "#using re.findall\n",
    "#to find all of the occurrences of a pattern in a string\n",
    "\n",
    "sentence6 = re.findall(r'am', 'I am learning text analytics and am enjoying it')  \n",
    "print (sentence6)"
   ]
  },
  {
   "cell_type": "code",
   "execution_count": 10,
   "id": "d6354e2c-6743-4492-b1ce-fecd7a8358a0",
   "metadata": {},
   "outputs": [
    {
     "name": "stdout",
     "output_type": "stream",
     "text": [
      "['I am learning text analytics ', ' am enjoying it']\n"
     ]
    }
   ],
   "source": [
    "#using re.split\n",
    "#to split a string by the occurrence of a given pattern\n",
    "\n",
    "sentence7 = re.split(r'and', 'I am learning text analytics and am enjoying it')  \n",
    "print (sentence7) "
   ]
  },
  {
   "cell_type": "code",
   "execution_count": 11,
   "id": "5c047c06-7cb3-4ad5-80de-ec167c805bad",
   "metadata": {},
   "outputs": [
    {
     "name": "stdout",
     "output_type": "stream",
     "text": [
      "['I ', ' learning text analytics and ', ' enjoying it']\n"
     ]
    }
   ],
   "source": [
    "sentence8 = re.split(r'am', 'I am learning text analytics and am enjoying it')  \n",
    "print (sentence8)"
   ]
  },
  {
   "cell_type": "code",
   "execution_count": 17,
   "id": "043bfd03-35ea-4e56-bba0-7585c15f837b",
   "metadata": {},
   "outputs": [
    {
     "name": "stdout",
     "output_type": "stream",
     "text": [
      "['I ', ' learning text analytics and am enjoying it']\n"
     ]
    }
   ],
   "source": [
    "#maxsplit = 1\n",
    "sentence9 = re.split(r'am', 'I am learning text analytics and am enjoying it', maxsplit=1) \n",
    "print (sentence9)"
   ]
  },
  {
   "cell_type": "code",
   "execution_count": 16,
   "id": "08ae4a5f-ec62-44fc-b3da-51d771402fc4",
   "metadata": {},
   "outputs": [
    {
     "name": "stdout",
     "output_type": "stream",
     "text": [
      "['I ', ' learning text analytics and ', ' enjoying it']\n"
     ]
    }
   ],
   "source": [
    "#maxsplit = 2\n",
    "sentence9 = re.split(r'am', 'I am learning text analytics and am enjoying it', maxsplit=2) \n",
    "print (sentence9)"
   ]
  },
  {
   "cell_type": "code",
   "execution_count": 14,
   "id": "e29c6bcd-bacf-46a7-a891-cb7ba8947943",
   "metadata": {},
   "outputs": [
    {
     "name": "stdout",
     "output_type": "stream",
     "text": [
      "['I ', ' learning text analytics, I ', ' enjoying it and I ', ' going to ace it']\n"
     ]
    }
   ],
   "source": [
    "#maxsplit = 3\n",
    "sentence10 = re.split(r'am', 'I am learning text analytics, I am enjoying it and I am going to ace it', maxsplit=3) \n",
    "print (sentence10)  "
   ]
  },
  {
   "cell_type": "code",
   "execution_count": 15,
   "id": "c9383a7c-982c-469c-b0c2-9525a8d0d70b",
   "metadata": {},
   "outputs": [
    {
     "name": "stdout",
     "output_type": "stream",
     "text": [
      "we like text analytics and we enjoy learning it\n"
     ]
    }
   ],
   "source": [
    "#using re.sub\n",
    "#to find the occurrence of a given pattern in a string and replace with a new value\n",
    "\n",
    "sentence11 = re.sub(r'I', 'we', 'I like text analytics and I enjoy learning it') \n",
    "print (sentence11)"
   ]
  },
  {
   "cell_type": "code",
   "execution_count": null,
   "id": "55edf5e2-b989-4714-9a2d-bde6fa9c2ebb",
   "metadata": {},
   "outputs": [],
   "source": []
  }
 ],
 "metadata": {
  "kernelspec": {
   "display_name": "Python 3 (ipykernel)",
   "language": "python",
   "name": "python3"
  },
  "language_info": {
   "codemirror_mode": {
    "name": "ipython",
    "version": 3
   },
   "file_extension": ".py",
   "mimetype": "text/x-python",
   "name": "python",
   "nbconvert_exporter": "python",
   "pygments_lexer": "ipython3",
   "version": "3.11.8"
  }
 },
 "nbformat": 4,
 "nbformat_minor": 5
}
